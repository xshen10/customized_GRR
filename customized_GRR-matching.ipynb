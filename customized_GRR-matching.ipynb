{
 "cells": [
  {
   "cell_type": "code",
   "execution_count": 11,
   "metadata": {},
   "outputs": [],
   "source": [
    "import pandas as pd\n",
    "import numpy as np\n",
    "from itertools import combinations\n",
    "from tqdm import tqdm\n",
    "import time\n",
    "import random"
   ]
  },
  {
   "cell_type": "code",
   "execution_count": 12,
   "metadata": {},
   "outputs": [],
   "source": [
    "def single_day_data_process(path, angles):\n",
    "    \"\"\"\n",
    "    compute metrics for single day measurements\n",
    "    \n",
    "    Args:\n",
    "    ====\n",
    "    path: input data directory, string\n",
    "    angles: selected angles used for computation, list\n",
    "    \n",
    "    Returns:\n",
    "    ====\n",
    "    X: global mean, float\n",
    "    R: avergae range for selected angles, float\n",
    "    mean_df: mean for each selected angles, 1D array\n",
    "    \"\"\"    \n",
    "    day = pd.read_csv(path, skiprows=43, usecols= ['Source Slot', 'Job Cycle', 'ESFQR Angle (deg)', 'ESFQX Value (nm)'])\n",
    "    day = day.dropna()\n",
    "    day = day[day['Source Slot']==1]\n",
    "    day = day[(day['Job Cycle']== 1) | (day['Job Cycle']== 2) | (day['Job Cycle']== 3)]\n",
    "    day = day[day['ESFQR Angle (deg)'].isin(angles)]\n",
    "    \n",
    "    X = np.mean(day['ESFQX Value (nm)'])\n",
    "    \n",
    "    max_v = day.groupby(by='ESFQR Angle (deg)')['ESFQX Value (nm)'].max()\n",
    "    min_v = day.groupby(by='ESFQR Angle (deg)')['ESFQX Value (nm)'].min()\n",
    "    mean_df = day.groupby(by='ESFQR Angle (deg)')['ESFQX Value (nm)'].mean()\n",
    "    R = np.mean(max_v-min_v)\n",
    "    \n",
    "    return X, R, mean_df\n",
    "    "
   ]
  },
  {
   "cell_type": "code",
   "execution_count": 13,
   "metadata": {},
   "outputs": [],
   "source": [
    "def data_process(paths, angles):\n",
    "    \"\"\"\n",
    "    process 2-day data for given angles, to compute matching related metrics\n",
    "    \n",
    "    Args:\n",
    "    ===\n",
    "    paths: list of saving paths for each of 3day measurements, list of strings\n",
    "    angles: selected angles for computation, list\n",
    "    \n",
    "    Returns:\n",
    "    ====\n",
    "    EV, AV, RR, NDC: desired metrics reflecting tool health\n",
    "    \"\"\"\n",
    "    \n",
    "    X1, R1, mean_df1 = single_day_data_process(paths[0], angles)\n",
    "    X2, R2, mean_df2 = single_day_data_process(paths[1], angles)\n",
    "    #X3, R3, mean_df3 = single_day_data_process(paths[2], angles)\n",
    "    \n",
    "    #R = (R1 + R2 + R3)/3\n",
    "    R = (R1 + R2)/2\n",
    "    K1 = 0.5908\n",
    "    EV = R * K1\n",
    "    \n",
    "    K2 = 0.7071\n",
    "    X_diff = max(X1, X2) - min(X1, X2)\n",
    "    nr = 30\n",
    "    if (X_diff*K2)**2-(EV**2/nr)>0:\n",
    "        AV = np.sqrt((X_diff*K2)**2-(EV**2/nr))\n",
    "    else: AV = 0\n",
    "    \n",
    "    RR = np.sqrt(EV**2 + AV**2)\n",
    "    \n",
    "    K3 = 0.3146\n",
    "    \n",
    "    mean_df = (mean_df1 + mean_df2)/2\n",
    "    Rp = np.max(mean_df)-np.min(mean_df)\n",
    "    \n",
    "    NDC = 1.41*(Rp*K3/RR)\n",
    "    #print(X_diff, EV, (X_diff*K2)**2-(EV**2/nr))\n",
    "      \n",
    "    return EV, AV, RR, NDC"
   ]
  },
  {
   "cell_type": "markdown",
   "metadata": {},
   "source": [
    "**Finding the optimal angle selections for ESFQR 1EE**"
   ]
  },
  {
   "cell_type": "code",
   "execution_count": 14,
   "metadata": {},
   "outputs": [],
   "source": [
    "#ESFQR SHR 1EE\n",
    "paths = [r'D:\\PWG_data\\2019-10-1\\Gauge-1-2-3-ESFQx_72Sector_1EE_SHR-191001132242.csv',\n",
    "        r'D:\\PWG_data\\20181014\\Gauge-1-2-3-ESFQx_72Sector_1EE_SHR-181014123620.csv']"
   ]
  },
  {
   "cell_type": "code",
   "execution_count": 15,
   "metadata": {},
   "outputs": [],
   "source": [
    "valid_angles = list(range(0,360, 5))\n",
    "#remove_ls = [0,135,225,70,100,105,115,125,155,160,165,170,180,190,250,270,275,295,310,335,355]\n",
    "\n",
    "#for num in remove_ls:\n",
    "#    valid_angles.remove(num)"
   ]
  },
  {
   "cell_type": "code",
   "execution_count": 16,
   "metadata": {},
   "outputs": [
    {
     "data": {
      "text/plain": [
       "17"
      ]
     },
     "execution_count": 16,
     "metadata": {},
     "output_type": "execute_result"
    }
   ],
   "source": [
    "valid_angles = [15,25,35,45,55,65,80,95,140,145,150,215,220,265,290,300,325]\n",
    "len(valid_angles)"
   ]
  },
  {
   "cell_type": "code",
   "execution_count": 17,
   "metadata": {},
   "outputs": [
    {
     "name": "stderr",
     "output_type": "stream",
     "text": [
      "100%|██████████████████████████████████████| 1000/1000 [00:35<00:00, 27.93it/s]\n"
     ]
    }
   ],
   "source": [
    "#random sampling\n",
    "n = 0\n",
    "df_combination_rand = pd.DataFrame()\n",
    "angles_com_rand = []\n",
    "for i in tqdm(range(1*10**3)):\n",
    "    angle = random.sample(valid_angles,10) \n",
    "    EV, AV, RR, NDC = data_process(paths, angle)\n",
    "    #df_combination_rand.loc[n,'angle']=angle\n",
    "    df_combination_rand.loc[n,'EV']=EV\n",
    "    df_combination_rand.loc[n,'AV']=AV\n",
    "    df_combination_rand.loc[n,'RR']=RR\n",
    "    df_combination_rand.loc[n,'NDC']=NDC\n",
    "    angles_com_rand.append(angle)\n",
    "    n += 1\n",
    "\n",
    "df_combination_rand['angles'] = angles_com_rand"
   ]
  },
  {
   "cell_type": "code",
   "execution_count": 18,
   "metadata": {},
   "outputs": [],
   "source": [
    "df_combination_rand.to_csv(r'D:\\PWG_data\\s5_c1-3_ESFQR_1EE_SHR.csv')"
   ]
  },
  {
   "cell_type": "code",
   "execution_count": 19,
   "metadata": {},
   "outputs": [
    {
     "data": {
      "text/html": [
       "<div>\n",
       "<style scoped>\n",
       "    .dataframe tbody tr th:only-of-type {\n",
       "        vertical-align: middle;\n",
       "    }\n",
       "\n",
       "    .dataframe tbody tr th {\n",
       "        vertical-align: top;\n",
       "    }\n",
       "\n",
       "    .dataframe thead th {\n",
       "        text-align: right;\n",
       "    }\n",
       "</style>\n",
       "<table border=\"1\" class=\"dataframe\">\n",
       "  <thead>\n",
       "    <tr style=\"text-align: right;\">\n",
       "      <th></th>\n",
       "      <th>EV</th>\n",
       "      <th>AV</th>\n",
       "      <th>RR</th>\n",
       "      <th>NDC</th>\n",
       "      <th>angles</th>\n",
       "    </tr>\n",
       "  </thead>\n",
       "  <tbody>\n",
       "  </tbody>\n",
       "</table>\n",
       "</div>"
      ],
      "text/plain": [
       "Empty DataFrame\n",
       "Columns: [EV, AV, RR, NDC, angles]\n",
       "Index: []"
      ]
     },
     "execution_count": 19,
     "metadata": {},
     "output_type": "execute_result"
    }
   ],
   "source": [
    "df_combination_rand.query('NDC>5 & RR<0.5').head()"
   ]
  },
  {
   "cell_type": "code",
   "execution_count": 20,
   "metadata": {},
   "outputs": [
    {
     "data": {
      "text/plain": [
       "(14.837031446912754, 0.879353682820715)"
      ]
     },
     "execution_count": 20,
     "metadata": {},
     "output_type": "execute_result"
    }
   ],
   "source": [
    "df_combination_rand.RR.min(), df_combination_rand.NDC.max()"
   ]
  },
  {
   "cell_type": "code",
   "execution_count": 21,
   "metadata": {},
   "outputs": [
    {
     "name": "stderr",
     "output_type": "stream",
     "text": [
      "11it [00:00, 21.18it/s]\n"
     ]
    }
   ],
   "source": [
    "#All combinations within certain angle range\n",
    "n = 0\n",
    "df_combination = pd.DataFrame()\n",
    "angles_com = []\n",
    "for angle in tqdm(combinations(valid_angles[:11], 10)):\n",
    "    EV, AV, RR, NDC = data_process(paths, angle)\n",
    "    #df_combination['angle']=list(angle)\n",
    "    df_combination.loc[n,'EV']=EV\n",
    "    df_combination.loc[n,'AV']=AV\n",
    "    df_combination.loc[n,'RR']=RR\n",
    "    df_combination.loc[n,'NDC']=NDC\n",
    "    angles_com.append(angle)\n",
    "    n += 1\n",
    "\n",
    "df_combination['angles'] = angles_com"
   ]
  },
  {
   "cell_type": "code",
   "execution_count": 22,
   "metadata": {},
   "outputs": [
    {
     "data": {
      "text/plain": [
       "(17.112362822092276, 0.10662566583992683)"
      ]
     },
     "execution_count": 22,
     "metadata": {},
     "output_type": "execute_result"
    }
   ],
   "source": [
    "df_combination.RR.min(), df_combination.NDC.max()"
   ]
  },
  {
   "cell_type": "code",
   "execution_count": 26,
   "metadata": {},
   "outputs": [],
   "source": [
    "slot2_angles_num = [350,50,195,215,335,40,255,115,240,200]"
   ]
  },
  {
   "cell_type": "markdown",
   "metadata": {},
   "source": [
    "**Calculate ESFQR/ESFQX 2EE**"
   ]
  },
  {
   "cell_type": "code",
   "execution_count": 27,
   "metadata": {},
   "outputs": [],
   "source": [
    "#calculate ESFQR 2EE\n",
    "def single_day_data_process(path, angles):\n",
    "    day = pd.read_csv(path, skiprows=43, usecols= ['Source Slot', 'Job Cycle', 'ESFQR Angle (deg)', 'ESFQR Value (nm)'])\n",
    "    day = day.dropna()\n",
    "    day = day[day['Source Slot']==1]\n",
    "    day = day[(day['Job Cycle']== 1) | (day['Job Cycle']== 2) | (day['Job Cycle']== 3)]\n",
    "    day = day[day['ESFQR Angle (deg)'].isin(angles)]\n",
    "    \n",
    "    X = np.mean(day['ESFQR Value (nm)'])\n",
    "    \n",
    "    max_v = day.groupby(by='ESFQR Angle (deg)')['ESFQR Value (nm)'].max()\n",
    "    min_v = day.groupby(by='ESFQR Angle (deg)')['ESFQR Value (nm)'].min()\n",
    "    mean_df = day.groupby(by='ESFQR Angle (deg)')['ESFQR Value (nm)'].mean()\n",
    "    R = np.mean(max_v-min_v)\n",
    "    \n",
    "    return X, R, mean_df"
   ]
  },
  {
   "cell_type": "code",
   "execution_count": 30,
   "metadata": {},
   "outputs": [
    {
     "name": "stdout",
     "output_type": "stream",
     "text": [
      "EV = 0.19299466666666676; AV = 0.26452834423993843; RR = 0.32744799017263976; NDC = 9.5685295803712\n"
     ]
    }
   ],
   "source": [
    "#calculate ESFQR 2EE\n",
    "#ESFQR 2EE\n",
    "paths = [r'D:\\PWG_data\\2019-10-1\\Gauge-1-2-3-ESFQx_72Sector_2EE-191001132242.csv',\n",
    "        r'D:\\PWG_data\\2019-10-2\\Gauge-1-2-3-ESFQx_72Sector_2EE-191002102847.csv']\n",
    "slot2_angles_num = [215,205,210,255,0,75,130,120,210,330]\n",
    "\n",
    "EV, AV, RR, NDC = data_process(paths, slot2_angles_num)\n",
    "print('EV = %s; AV = %s; RR = %s; NDC = %s' %(EV, AV, RR, NDC))"
   ]
  },
  {
   "cell_type": "markdown",
   "metadata": {},
   "source": [
    "**Calculate ESFQR/ESFQX 1EE**"
   ]
  },
  {
   "cell_type": "code",
   "execution_count": 31,
   "metadata": {},
   "outputs": [],
   "source": [
    "#ESFQR SHR 1EE\n",
    "paths = [r'D:\\PWG_data\\2019-10-1\\Gauge-1-2-3-ESFQx_72Sector_1EE_SHR-191001132242.csv',\n",
    "        r'D:\\PWG_data\\2019-10-2\\Gauge-1-2-3-ESFQx_72Sector_1EE_SHR-191002102847.csv',\n",
    "        r'D:\\PWG_data\\2019-10-3\\Gauge-1-2-3-ESFQx_72Sector_1EE_SHR-191003095807.csv']"
   ]
  },
  {
   "cell_type": "code",
   "execution_count": 38,
   "metadata": {},
   "outputs": [],
   "source": [
    "#calculate ESFQR 1EE\n",
    "def single_day_data_process(path, angles):\n",
    "    day = pd.read_csv(path, skiprows=43, usecols= ['Source Slot', 'Job Cycle', 'ESFQR Angle (deg)', 'ESFQR Value (nm)'])\n",
    "    day = day.dropna()\n",
    "    day = day[day['Source Slot']==5]\n",
    "    day = day[(day['Job Cycle']== 3) | (day['Job Cycle']== 4) | (day['Job Cycle']== 5)]\n",
    "    day = day[day['ESFQR Angle (deg)'].isin(angles)]\n",
    "    \n",
    "    X = np.mean(day['ESFQR Value (nm)'])\n",
    "    \n",
    "    max_v = day.groupby(by='ESFQR Angle (deg)')['ESFQR Value (nm)'].max()\n",
    "    min_v = day.groupby(by='ESFQR Angle (deg)')['ESFQR Value (nm)'].min()\n",
    "    mean_df = day.groupby(by='ESFQR Angle (deg)')['ESFQR Value (nm)'].mean()\n",
    "    R = np.mean(max_v-min_v)\n",
    "    \n",
    "    return X, R, mean_df"
   ]
  },
  {
   "cell_type": "code",
   "execution_count": 39,
   "metadata": {},
   "outputs": [
    {
     "name": "stdout",
     "output_type": "stream",
     "text": [
      "EV = 0.24050483333333325; AV = 0.28609866271368195; RR = 0.3737579693642017; NDC = 11.224744773924186\n"
     ]
    }
   ],
   "source": [
    "EV, AV, RR, NDC = data_process(paths, slot2_angles_num)\n",
    "print('EV = %s; AV = %s; RR = %s; NDC = %s' %(EV, AV, RR, NDC))"
   ]
  },
  {
   "cell_type": "markdown",
   "metadata": {},
   "source": [
    "**Finding the best sites for SFQR**"
   ]
  },
  {
   "cell_type": "code",
   "execution_count": 32,
   "metadata": {},
   "outputs": [],
   "source": [
    "#SFQR std 2EE\n",
    "paths = [r'D:\\PWG_data\\2019-10-1\\Gauge-1-2-3-SFQx_26x8_2EE-191001132242.csv',\n",
    "        r'D:\\PWG_data\\2019-10-2\\Gauge-1-2-3-SFQx_26x8_2EE-191002102847.csv',\n",
    "        r'D:\\PWG_data\\2019-10-3\\Gauge-1-2-3-SFQx_26x8_2EE-191003095807.csv']"
   ]
  },
  {
   "cell_type": "code",
   "execution_count": 33,
   "metadata": {},
   "outputs": [],
   "source": [
    "def single_day_data_process(path, sites):\n",
    "    day = pd.read_csv(path, skiprows=43, usecols= ['Source Slot', 'Job Cycle', 'Site Number', 'SFQR Value (nm)'])\n",
    "    day = day.dropna()\n",
    "    day = day[day['Source Slot']==2]\n",
    "    day = day[(day['Job Cycle']== 3) | (day['Job Cycle']== 4) | (day['Job Cycle']== 5)]\n",
    "    day = day[day['Site Number'].isin(sites)]\n",
    "    \n",
    "    X = np.mean(day['SFQR Value (nm)'])\n",
    "    \n",
    "    max_v = day.groupby(by='Site Number')['SFQR Value (nm)'].max()\n",
    "    min_v = day.groupby(by='Site Number')['SFQR Value (nm)'].min()\n",
    "    mean_df = day.groupby(by='Site Number')['SFQR Value (nm)'].mean()\n",
    "    R = np.mean(max_v-min_v)\n",
    "    \n",
    "    return X, R, mean_df"
   ]
  },
  {
   "cell_type": "code",
   "execution_count": 34,
   "metadata": {},
   "outputs": [],
   "source": [
    "valid_sites = list(range(1,337))\n",
    "remove_ls = [1,4,5,10,11,16,17,24,25,32,49,58,59,68,69,78,109,120,121,132,133,144,145,156,157,168,169,180,\n",
    "             181,192,193,204,205,216,217,228,259,268,269,278,279,288,305,312,313,320,321,326,327,332,333,336]\n",
    "\n",
    "for num in remove_ls:\n",
    "    valid_sites.remove(num)"
   ]
  },
  {
   "cell_type": "code",
   "execution_count": 35,
   "metadata": {},
   "outputs": [
    {
     "name": "stderr",
     "output_type": "stream",
     "text": [
      "100%|██████████████████████████████████████| 1000/1000 [00:57<00:00, 17.42it/s]\n"
     ]
    }
   ],
   "source": [
    "#random sampling\n",
    "n = 0\n",
    "df_combination_rand = pd.DataFrame()\n",
    "sites_com_rand = []\n",
    "for i in tqdm(range(1*10**3)):\n",
    "    sites = random.sample(valid_sites,10) \n",
    "    EV, AV, RR, NDC = data_process(paths, sites)\n",
    "    #df_combination_rand.loc[n,'angle']=angle\n",
    "    df_combination_rand.loc[n,'EV']=EV\n",
    "    df_combination_rand.loc[n,'AV']=AV\n",
    "    df_combination_rand.loc[n,'RR']=RR\n",
    "    df_combination_rand.loc[n,'NDC']=NDC\n",
    "    sites_com_rand.append(sites)\n",
    "    n += 1\n",
    "\n",
    "df_combination_rand['sites'] = sites_com_rand"
   ]
  },
  {
   "cell_type": "code",
   "execution_count": 36,
   "metadata": {},
   "outputs": [
    {
     "data": {
      "text/plain": [
       "(2.301183395991168, 22.41037994658251)"
      ]
     },
     "execution_count": 36,
     "metadata": {},
     "output_type": "execute_result"
    }
   ],
   "source": [
    "df_combination_rand.NDC.min(), df_combination_rand.NDC.max()"
   ]
  },
  {
   "cell_type": "code",
   "execution_count": 37,
   "metadata": {},
   "outputs": [
    {
     "data": {
      "text/plain": [
       "(0.18493283545429837, 0.43710638384318334)"
      ]
     },
     "execution_count": 37,
     "metadata": {},
     "output_type": "execute_result"
    }
   ],
   "source": [
    "df_combination_rand.RR.min(), df_combination_rand.RR.max()"
   ]
  },
  {
   "cell_type": "code",
   "execution_count": 38,
   "metadata": {},
   "outputs": [],
   "source": [
    "df_combination_rand.to_csv(r'D:\\data\\1k_SFQR_std_2EE.csv')"
   ]
  },
  {
   "cell_type": "code",
   "execution_count": 39,
   "metadata": {},
   "outputs": [
    {
     "data": {
      "text/html": [
       "<div>\n",
       "<style scoped>\n",
       "    .dataframe tbody tr th:only-of-type {\n",
       "        vertical-align: middle;\n",
       "    }\n",
       "\n",
       "    .dataframe tbody tr th {\n",
       "        vertical-align: top;\n",
       "    }\n",
       "\n",
       "    .dataframe thead th {\n",
       "        text-align: right;\n",
       "    }\n",
       "</style>\n",
       "<table border=\"1\" class=\"dataframe\">\n",
       "  <thead>\n",
       "    <tr style=\"text-align: right;\">\n",
       "      <th></th>\n",
       "      <th>Unnamed: 0</th>\n",
       "      <th>EV</th>\n",
       "      <th>AV</th>\n",
       "      <th>RR</th>\n",
       "      <th>NDC</th>\n",
       "      <th>sites</th>\n",
       "    </tr>\n",
       "  </thead>\n",
       "  <tbody>\n",
       "    <tr>\n",
       "      <th>3310</th>\n",
       "      <td>3310</td>\n",
       "      <td>0.171332</td>\n",
       "      <td>0.058015</td>\n",
       "      <td>0.180888</td>\n",
       "      <td>15.961569</td>\n",
       "      <td>[138, 206, 19, 60, 90, 149, 296, 230, 233, 335]</td>\n",
       "    </tr>\n",
       "    <tr>\n",
       "      <th>4745</th>\n",
       "      <td>4745</td>\n",
       "      <td>0.181573</td>\n",
       "      <td>0.021306</td>\n",
       "      <td>0.182818</td>\n",
       "      <td>14.879078</td>\n",
       "      <td>[277, 238, 179, 219, 258, 293, 114, 117, 301, ...</td>\n",
       "    </tr>\n",
       "    <tr>\n",
       "      <th>483</th>\n",
       "      <td>483</td>\n",
       "      <td>0.179012</td>\n",
       "      <td>0.047146</td>\n",
       "      <td>0.185117</td>\n",
       "      <td>12.873191</td>\n",
       "      <td>[138, 18, 64, 178, 229, 294, 227, 203, 302, 335]</td>\n",
       "    </tr>\n",
       "    <tr>\n",
       "      <th>803</th>\n",
       "      <td>803</td>\n",
       "      <td>0.184723</td>\n",
       "      <td>0.030296</td>\n",
       "      <td>0.187191</td>\n",
       "      <td>9.191772</td>\n",
       "      <td>[138, 148, 209, 190, 189, 22, 206, 14, 52, 123]</td>\n",
       "    </tr>\n",
       "    <tr>\n",
       "      <th>3129</th>\n",
       "      <td>3129</td>\n",
       "      <td>0.177634</td>\n",
       "      <td>0.059771</td>\n",
       "      <td>0.187420</td>\n",
       "      <td>16.443978</td>\n",
       "      <td>[141, 275, 138, 300, 227, 101, 260, 194, 152, ...</td>\n",
       "    </tr>\n",
       "  </tbody>\n",
       "</table>\n",
       "</div>"
      ],
      "text/plain": [
       "      Unnamed: 0        EV        AV        RR        NDC  \\\n",
       "3310        3310  0.171332  0.058015  0.180888  15.961569   \n",
       "4745        4745  0.181573  0.021306  0.182818  14.879078   \n",
       "483          483  0.179012  0.047146  0.185117  12.873191   \n",
       "803          803  0.184723  0.030296  0.187191   9.191772   \n",
       "3129        3129  0.177634  0.059771  0.187420  16.443978   \n",
       "\n",
       "                                                  sites  \n",
       "3310    [138, 206, 19, 60, 90, 149, 296, 230, 233, 335]  \n",
       "4745  [277, 238, 179, 219, 258, 293, 114, 117, 301, ...  \n",
       "483    [138, 18, 64, 178, 229, 294, 227, 203, 302, 335]  \n",
       "803     [138, 148, 209, 190, 189, 22, 206, 14, 52, 123]  \n",
       "3129  [141, 275, 138, 300, 227, 101, 260, 194, 152, ...  "
      ]
     },
     "execution_count": 39,
     "metadata": {},
     "output_type": "execute_result"
    }
   ],
   "source": [
    "best = pd.read_csv(r'D:\\PWG_data\\slot2_c3-5\\1k_SFQR_std_2EE.csv')\n",
    "best.sort_values('RR').head()"
   ]
  },
  {
   "cell_type": "code",
   "execution_count": 40,
   "metadata": {},
   "outputs": [
    {
     "data": {
      "text/plain": [
       "10"
      ]
     },
     "execution_count": 40,
     "metadata": {},
     "output_type": "execute_result"
    }
   ],
   "source": [
    "#best_sites = [138,206,19,60,90,149,296,230,233,335]\n",
    "#best_sites = [277,238,179,219,258,293,114,117,301,151]\n",
    "best_sites = [277,238,179,219,258,293,114,117,301,151]\n",
    "\n",
    "len(best_sites)"
   ]
  },
  {
   "cell_type": "markdown",
   "metadata": {},
   "source": [
    "**Calculate SFQx 2EE std**"
   ]
  },
  {
   "cell_type": "code",
   "execution_count": 41,
   "metadata": {},
   "outputs": [],
   "source": [
    "#SFQX std 2EE\n",
    "paths = [r'D:\\PWG_data\\2019-10-1\\Gauge-1-2-3-SFQx_26x8_2EE-191001132242.csv',\n",
    "        r'D:\\PWG_data\\2019-10-2\\Gauge-1-2-3-SFQx_26x8_2EE-191002102847.csv',\n",
    "        r'D:\\PWG_data\\2019-10-3\\Gauge-1-2-3-SFQx_26x8_2EE-191003095807.csv']"
   ]
  },
  {
   "cell_type": "code",
   "execution_count": 42,
   "metadata": {},
   "outputs": [],
   "source": [
    "def single_day_data_process(path, sites):\n",
    "    day = pd.read_csv(path, skiprows=43, usecols= ['Source Slot', 'Job Cycle', 'Site Number', 'SFQX Value (nm)'])\n",
    "    day = day.dropna()\n",
    "    day = day[day['Source Slot']==2]\n",
    "    day = day[(day['Job Cycle']== 3) | (day['Job Cycle']== 4) | (day['Job Cycle']== 5)]\n",
    "    day = day[day['Site Number'].isin(sites)]\n",
    "    \n",
    "    X = np.mean(day['SFQX Value (nm)'])\n",
    "    \n",
    "    max_v = day.groupby(by='Site Number')['SFQX Value (nm)'].max()\n",
    "    min_v = day.groupby(by='Site Number')['SFQX Value (nm)'].min()\n",
    "    mean_df = day.groupby(by='Site Number')['SFQX Value (nm)'].mean()\n",
    "    R = np.mean(max_v-min_v)\n",
    "    \n",
    "    return X, R, mean_df"
   ]
  },
  {
   "cell_type": "code",
   "execution_count": 43,
   "metadata": {},
   "outputs": [
    {
     "name": "stdout",
     "output_type": "stream",
     "text": [
      "EV = 0.05760299999999994; AV = 0.021093633629604137; RR = 0.061343679288904406; NDC = 29.792381891422743\n"
     ]
    }
   ],
   "source": [
    "EV, AV, RR, NDC = data_process(paths, best_sites)\n",
    "print('EV = %s; AV = %s; RR = %s; NDC = %s' %(EV, AV, RR, NDC))"
   ]
  },
  {
   "cell_type": "markdown",
   "metadata": {},
   "source": [
    "**Calculate SiteNT PV**"
   ]
  },
  {
   "cell_type": "code",
   "execution_count": 59,
   "metadata": {},
   "outputs": [],
   "source": [
    "#SiteNT std 2EE\n",
    "paths = [r'D:\\PWG_data\\2019-10-1\\Gauge-1-2-3-siteNT_Front_26x33_2EE-191001132242.csv',\n",
    "        r'D:\\PWG_data\\2019-10-2\\Gauge-1-2-3-siteNT_Front_26x33_2EE-191002102847.csv',\n",
    "        r'D:\\PWG_data\\2019-10-3\\Gauge-1-2-3-siteNT_Front_26x33_2EE-191003095807.csv']"
   ]
  },
  {
   "cell_type": "code",
   "execution_count": 60,
   "metadata": {},
   "outputs": [],
   "source": [
    "def single_day_data_process(path, sites):\n",
    "    day = pd.read_csv(path, skiprows=41, usecols= ['Source Slot', 'Job Cycle', 'Site Number', \n",
    "                                                   'Front Site Based NT PV Value (nm)'])\n",
    "    day = day.dropna()\n",
    "    day = day[day['Source Slot']==2]\n",
    "    day = day[(day['Job Cycle']== 3) | (day['Job Cycle']== 4) | (day['Job Cycle']== 5)]\n",
    "    day = day[day['Site Number'].isin(sites)]\n",
    "    \n",
    "    X = np.mean(day['Front Site Based NT PV Value (nm)'])\n",
    "    \n",
    "    max_v = day.groupby(by='Site Number')['Front Site Based NT PV Value (nm)'].max()\n",
    "    min_v = day.groupby(by='Site Number')['Front Site Based NT PV Value (nm)'].min()\n",
    "    mean_df = day.groupby(by='Site Number')['Front Site Based NT PV Value (nm)'].mean()\n",
    "    R = np.mean(max_v-min_v)\n",
    "    \n",
    "    return X, R, mean_df"
   ]
  },
  {
   "cell_type": "code",
   "execution_count": 65,
   "metadata": {
    "scrolled": true
   },
   "outputs": [
    {
     "name": "stdout",
     "output_type": "stream",
     "text": [
      "EV = nan; AV = 0; RR = nan; NDC = nan\n"
     ]
    }
   ],
   "source": [
    "EV, AV, RR, NDC = data_process(paths, best_sites)\n",
    "print('EV = %s; AV = %s; RR = %s; NDC = %s' %(EV, AV, RR, NDC))"
   ]
  },
  {
   "cell_type": "markdown",
   "metadata": {},
   "source": [
    "**GRR Precision with random selected sites (for SFQR/x)**"
   ]
  },
  {
   "cell_type": "code",
   "execution_count": 66,
   "metadata": {},
   "outputs": [],
   "source": [
    "valid_sites = list(range(1,337))\n",
    "remove_ls = [1,4,5,10,11,16,17,24,25,32,49,58,59,68,69,78,109,120,121,132,133,144,145,156,157,168,169,180,\n",
    "             181,192,193,204,205,216,217,228,259,268,269,278,279,288,305,312,313,320,321,326,327,332,333,336]\n",
    "\n",
    "for num in remove_ls:\n",
    "    valid_sites.remove(num)\n",
    "    \n",
    "sites = random.sample(valid_sites,10)"
   ]
  },
  {
   "cell_type": "code",
   "execution_count": 72,
   "metadata": {},
   "outputs": [],
   "source": [
    "sites = [310, 231, 37, 273, 117, 110, 66, 39, 22, 214]"
   ]
  },
  {
   "cell_type": "code",
   "execution_count": 73,
   "metadata": {},
   "outputs": [],
   "source": [
    "paths = [r'D:\\PWG_data\\2019-10-1\\Gauge-1-2-3-SFQx_26x8_2EE-191001132242.csv',\n",
    "        r'D:\\PWG_data\\20181014\\Gauge-1-2-3-SFQx_26x8_2EE-181014123620.csv']"
   ]
  },
  {
   "cell_type": "code",
   "execution_count": 76,
   "metadata": {},
   "outputs": [],
   "source": [
    "def single_day_data_process(path, sites):\n",
    "    day = pd.read_csv(path, skiprows=43, usecols= ['Source Slot', 'Job Cycle', 'Site Number', \n",
    "                                                   'SFQX Value (nm)'])\n",
    "    day = day.dropna()\n",
    "    day = day[day['Source Slot']==1]\n",
    "    day = day[(day['Job Cycle']== 1) | (day['Job Cycle']== 2) | (day['Job Cycle']== 3)]\n",
    "    day = day[day['Site Number'].isin(sites)]\n",
    "    \n",
    "    X = np.mean(day['SFQX Value (nm)'])\n",
    "    \n",
    "    max_v = day.groupby(by='Site Number')['SFQX Value (nm)'].max()\n",
    "    min_v = day.groupby(by='Site Number')['SFQX Value (nm)'].min()\n",
    "    mean_df = day.groupby(by='Site Number')['SFQX Value (nm)'].mean()\n",
    "    R = np.mean(max_v-min_v)\n",
    "    \n",
    "    return X, R, mean_df"
   ]
  },
  {
   "cell_type": "code",
   "execution_count": 77,
   "metadata": {},
   "outputs": [
    {
     "name": "stdout",
     "output_type": "stream",
     "text": [
      "EV = 0.06616960000000001; AV = 0.5547062620072309; RR = 0.5586389290715379; NDC = 1.312825658639488\n"
     ]
    }
   ],
   "source": [
    "EV, AV, RR, NDC = data_process(paths, sites)\n",
    "print('EV = %s; AV = %s; RR = %s; NDC = %s' %(EV, AV, RR, NDC))"
   ]
  },
  {
   "cell_type": "markdown",
   "metadata": {},
   "source": [
    "**GRR Precision with random selected sites (for NT/IPD)**"
   ]
  },
  {
   "cell_type": "code",
   "execution_count": 77,
   "metadata": {},
   "outputs": [],
   "source": [
    "valid_sites = list(range(1,81))\n",
    "remove_ls = [1,2,7,8,9,18,29,40,41,52,63,72,73,74,79,80]\n",
    "\n",
    "for num in remove_ls:\n",
    "    valid_sites.remove(num)\n",
    "    \n",
    "sites = random.sample(valid_sites,10)"
   ]
  },
  {
   "cell_type": "code",
   "execution_count": 46,
   "metadata": {},
   "outputs": [],
   "source": [
    "sites = [48, 60, 61, 26, 23, 71, 44, 17, 34, 57]"
   ]
  },
  {
   "cell_type": "code",
   "execution_count": 69,
   "metadata": {},
   "outputs": [],
   "source": [
    "paths = [r'D:\\PWG_data\\2019-10-1\\Gauge-1-2-3-siteNT_Back_26x33_2EE-191001132242.csv',\n",
    "        r'D:\\PWG_data\\20181014\\Gauge-1-2-3-siteNT_Back_26x33_2EE-181014123620.csv']"
   ]
  },
  {
   "cell_type": "code",
   "execution_count": 70,
   "metadata": {},
   "outputs": [],
   "source": [
    "def single_day_data_process(path, sites):\n",
    "    day = pd.read_csv(path, skiprows=41, usecols= ['Source Slot', 'Job Cycle', 'Site Number', \n",
    "                                                   'Back Site Based NT PV Value (nm)'])\n",
    "    day = day.dropna()\n",
    "    day = day[day['Source Slot']==1]\n",
    "    day = day[(day['Job Cycle']== 1) | (day['Job Cycle']== 2) | (day['Job Cycle']== 3)]\n",
    "    day = day[day['Site Number'].isin(sites)]\n",
    "    \n",
    "    X = np.mean(day['Back Site Based NT PV Value (nm)'])\n",
    "    \n",
    "    max_v = day.groupby(by='Site Number')['Back Site Based NT PV Value (nm)'].max()\n",
    "    min_v = day.groupby(by='Site Number')['Back Site Based NT PV Value (nm)'].min()\n",
    "    mean_df = day.groupby(by='Site Number')['Back Site Based NT PV Value (nm)'].mean()\n",
    "    R = np.mean(max_v-min_v)\n",
    "    \n",
    "    return X, R, mean_df"
   ]
  },
  {
   "cell_type": "code",
   "execution_count": 71,
   "metadata": {},
   "outputs": [
    {
     "name": "stdout",
     "output_type": "stream",
     "text": [
      "EV = 0.13647479999999973; AV = 1.1164685946816375; RR = 1.1247788644642245; NDC = 3.53558251816394\n"
     ]
    }
   ],
   "source": [
    "EV, AV, RR, NDC = data_process(paths, sites)\n",
    "print('EV = %s; AV = %s; RR = %s; NDC = %s' %(EV, AV, RR, NDC))"
   ]
  },
  {
   "cell_type": "code",
   "execution_count": 102,
   "metadata": {},
   "outputs": [
    {
     "data": {
      "text/plain": [
       "[48, 60, 61, 26, 23, 71, 44, 17, 34, 57]"
      ]
     },
     "execution_count": 102,
     "metadata": {},
     "output_type": "execute_result"
    }
   ],
   "source": [
    "sites"
   ]
  },
  {
   "cell_type": "markdown",
   "metadata": {},
   "source": [
    "**GRR Precision with random selected sectors (ZDD/IPD)**"
   ]
  },
  {
   "cell_type": "code",
   "execution_count": 46,
   "metadata": {},
   "outputs": [],
   "source": [
    "valid_angles = [0,22.5,45,67.5,90,112.5,135,157.5,180,202.5,225,247.5,292.5,315,337.5]\n",
    " \n",
    "angles = random.sample(valid_angles,10)\n",
    "angles = [22.5, 157.5, 90, 315, 225, 135, 337.5, 292.5, 247.5, 0]"
   ]
  },
  {
   "cell_type": "code",
   "execution_count": 47,
   "metadata": {},
   "outputs": [],
   "source": [
    "paths = [r'D:\\PWG_data\\20181105\\Gauge-1-2-3-IPD_Shape_10term_sector-181105202716.csv',\n",
    "        r'D:\\PWG_data\\20190113\\Gauge_SHR-1-2-3-IPD_Shape_10term_sector-190113101316.csv']"
   ]
  },
  {
   "cell_type": "code",
   "execution_count": 36,
   "metadata": {},
   "outputs": [],
   "source": [
    "def single_day_data_process(path, angles):\n",
    "    day = pd.read_csv(path, skiprows=44, usecols= ['Source Slot', 'Job Cycle', 'Shape Residual X IPD @ (6 & 16) Angle (deg)',\n",
    "                                                   'Shape Residual X IPD @ (6 & 16) Zone',\n",
    "                                                   'Shape Residual Y IPD @ (6 & 16) 3Sigma (nm / mm)'])\n",
    "    day = day.dropna()\n",
    "    day = day[day['Source Slot']==1]\n",
    "    day = day[day['Shape Residual X IPD @ (6 & 16) Zone']==1]\n",
    "    day = day[(day['Job Cycle']== 1) | (day['Job Cycle']== 2) | (day['Job Cycle']== 3)]\n",
    "    day = day[day['Shape Residual X IPD @ (6 & 16) Angle (deg)'].isin(angles)]\n",
    "    \n",
    "    X = np.mean(day['Shape Residual Y IPD @ (6 & 16) 3Sigma (nm / mm)'])\n",
    "    \n",
    "    max_v = day.groupby(by='Shape Residual X IPD @ (6 & 16) Angle (deg)')['Shape Residual Y IPD @ (6 & 16) 3Sigma (nm / mm)'].max()\n",
    "    min_v = day.groupby(by='Shape Residual X IPD @ (6 & 16) Angle (deg)')['Shape Residual Y IPD @ (6 & 16) 3Sigma (nm / mm)'].min()\n",
    "    mean_df = day.groupby(by='Shape Residual X IPD @ (6 & 16) Angle (deg)')['Shape Residual Y IPD @ (6 & 16) 3Sigma (nm / mm)'].mean()\n",
    "    R = np.mean(max_v-min_v)\n",
    "    \n",
    "    return X, R, mean_df"
   ]
  },
  {
   "cell_type": "code",
   "execution_count": 39,
   "metadata": {},
   "outputs": [
    {
     "name": "stdout",
     "output_type": "stream",
     "text": [
      "EV = 0.15387976799999892; AV = 12.736904747294961; RR = 12.737834255659973; NDC = 4.235039041501878\n"
     ]
    }
   ],
   "source": [
    "EV, AV, RR, NDC = data_process(paths, angles)\n",
    "print('EV = %s; AV = %s; RR = %s; NDC = %s' %(EV, AV, RR, NDC))"
   ]
  },
  {
   "cell_type": "markdown",
   "metadata": {},
   "source": [
    "**GRR Precision with random selected sectors (for ESFQR/x)**"
   ]
  },
  {
   "cell_type": "code",
   "execution_count": 190,
   "metadata": {},
   "outputs": [],
   "source": [
    "valid_angles = list(range(0,360, 5))\n",
    "remove_ls = [0,135,225]\n",
    "\n",
    "for num in remove_ls:\n",
    "    valid_angles.remove(num)\n",
    "\n",
    "angles = random.sample(valid_angles,10)"
   ]
  },
  {
   "cell_type": "code",
   "execution_count": 88,
   "metadata": {},
   "outputs": [],
   "source": [
    "angles = [205, 250, 30, 100, 300, 235, 130, 220, 90, 335]"
   ]
  },
  {
   "cell_type": "code",
   "execution_count": 75,
   "metadata": {},
   "outputs": [],
   "source": [
    "#ESFQR SHR 1EE\n",
    "paths = [r'D:\\PWG_data\\20181105\\Gauge-1-2-3-ESFQx_72Sector_1EE_SHR-181105202716.csv',\n",
    "        r'D:\\PWG_data\\20190113\\Gauge_SHR-1-2-3-ESFQx_72Sector_1EE_SHR-190113101316.csv']"
   ]
  },
  {
   "cell_type": "code",
   "execution_count": 78,
   "metadata": {},
   "outputs": [],
   "source": [
    "#calculate ESFQR 1EE\n",
    "def single_day_data_process(path, angles):\n",
    "    day = pd.read_csv(path, skiprows=43, usecols= ['Source Slot', 'Job Cycle', 'ESFQR Angle (deg)', 'ESFQX Value (nm)'])\n",
    "    day = day.dropna()\n",
    "    day = day[day['Source Slot']==1]\n",
    "    day = day[(day['Job Cycle']== 1) | (day['Job Cycle']== 2) | (day['Job Cycle']== 3)]\n",
    "    day = day[day['ESFQR Angle (deg)'].isin(angles)]\n",
    "    \n",
    "    X = np.mean(day['ESFQX Value (nm)'])\n",
    "    \n",
    "    max_v = day.groupby(by='ESFQR Angle (deg)')['ESFQX Value (nm)'].max()\n",
    "    min_v = day.groupby(by='ESFQR Angle (deg)')['ESFQX Value (nm)'].min()\n",
    "    mean_df = day.groupby(by='ESFQR Angle (deg)')['ESFQX Value (nm)'].mean()\n",
    "    R = np.mean(max_v-min_v)\n",
    "    \n",
    "    return X, R, mean_df"
   ]
  },
  {
   "cell_type": "code",
   "execution_count": 93,
   "metadata": {},
   "outputs": [
    {
     "name": "stdout",
     "output_type": "stream",
     "text": [
      "EV = 0.08389359999999989; AV = 20.447204963164463; RR = 20.447377067530653; NDC = 0.16805641470057706\n"
     ]
    }
   ],
   "source": [
    "EV, AV, RR, NDC = data_process(paths, angles)\n",
    "print('EV = %s; AV = %s; RR = %s; NDC = %s' %(EV, AV, RR, NDC))"
   ]
  },
  {
   "cell_type": "code",
   "execution_count": null,
   "metadata": {},
   "outputs": [],
   "source": []
  }
 ],
 "metadata": {
  "kernelspec": {
   "display_name": "Python 3",
   "language": "python",
   "name": "python3"
  },
  "language_info": {
   "codemirror_mode": {
    "name": "ipython",
    "version": 3
   },
   "file_extension": ".py",
   "mimetype": "text/x-python",
   "name": "python",
   "nbconvert_exporter": "python",
   "pygments_lexer": "ipython3",
   "version": "3.6.9"
  }
 },
 "nbformat": 4,
 "nbformat_minor": 2
}
